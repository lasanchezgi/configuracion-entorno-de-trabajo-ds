{
 "cells": [
  {
   "cell_type": "markdown",
   "metadata": {},
   "source": [
    "# Manejo de archivos en Python"
   ]
  },
  {
   "cell_type": "markdown",
   "metadata": {},
   "source": [
    "## Manejo de rutas"
   ]
  },
  {
   "cell_type": "markdown",
   "metadata": {},
   "source": [
    "### Problemática"
   ]
  },
  {
   "cell_type": "markdown",
   "metadata": {},
   "source": [
    "Un problema común en el manejo de rutas es la incompatibilidad entre los sistemas de archivos de los sistemas operativos, ya sea Windows, Mac, Linux o WSL. Por ejemplo, Windows utiliza el “backslash” en sus rutas de archivos, mientras que el resto usa el “foward slash”.\n",
    "\n",
    "#### Solución al manejo de rutas\n",
    "Esto hace que, cuando inicies un nuevo proyecto, tengas que hacerte varias preguntas, por ejemplo:\n",
    "\n",
    "* ¿Habrá más personas involucradas?\n",
    "* ¿Habrá más de un ordenador involucrado?\n",
    "* ¿Cuál será la ubicación del proyecto, dentro del sistema de archivos de cada ordenador?\n",
    "* ¿Cómo se vería afectado un proyecto si reestructuras su contenido, en una fase intermedia de desarrollo?\n",
    "\n",
    "Deberías poder trabajar en tu proyecto y no tener que preocuparte por nada más que eso."
   ]
  },
  {
   "cell_type": "markdown",
   "metadata": {},
   "source": [
    "### OS"
   ]
  },
  {
   "cell_type": "markdown",
   "metadata": {},
   "source": [
    "#### Objetivo\n",
    "Crear la ruta `./data/raw/` independiente del sistema operativo. En este caso usaremos os, un módulo de Python que sirve para manejar rutas.\n",
    "\n",
    "**IMPORTANTE:** Cerciórate de que estás trabajando en el entorno correcto.\n",
    "\n",
    "#### Implementación\n",
    "Dentro del notebook de jupyter:\n",
    "\n",
    "```python\n",
    "import os\n",
    "\n",
    "CURRENT_DIR = os.getcwd()  # Ruta actual de trabajo\n",
    "DATA_DIR = os.path.join(CURRENT_DIR, os.pardir, \"data\", \"raw\")  # Ruta objetivo (os.pardir: ruta padre)\n",
    "\n",
    "os.path.exists(DATA_DIR)  # Revisa si el path existe\n",
    "os.path.isdir(DATA_DIR)  # Revisa si es un directorio\n",
    "\n",
    "os.listdir(DATA_DIR)  # Itera por los archivos dentro del directorio\n",
    "\n",
    "os.mkdir(os.path.join(DATA_DIR, \"os\"))  # Crea la carpeta *\"os\"*\n",
    "```\n"
   ]
  },
  {
   "cell_type": "markdown",
   "metadata": {},
   "source": [
    "### Pathlib"
   ]
  },
  {
   "cell_type": "markdown",
   "metadata": {},
   "source": [
    "#### Objetivo\n",
    "Crear la ruta `./data/raw/` independiente del sistema operativo. Ahora usaremos pathlib, otro módulo de Python.\n",
    "\n",
    "#### Implementación\n",
    "Dentro del notebook de jupyter:\n",
    "\n",
    "``` python\n",
    "import pathlib\n",
    "\n",
    "pathlib.Path()  # Genera un objeto Unix Path o \n",
    "\n",
    "CURRENT_DIR = pathlib.Path().resolve()  # Path local completo\n",
    "DATA_DIR = CURRENT_DIR.parent.joinpath(\"data\", \"raw\")  # Directorio objetivo\n",
    "\n",
    "DATA_DIR.exists()  # Revisa si el directorio existe\n",
    "DATA_DIR.is_dir()  # Revisa si es un directorio\n",
    "```\n",
    "\n",
    "Utiliza el método `parent` para obtener el directorio padre y de ahí concatenar el path de las carpetas “data” y “raw”.\n",
    "\n",
    "Puedes crear una carpeta dentro de un directorio, usando el método `mkdir`:\n",
    "\n",
    "``` python\n",
    "DATA_DIR.joinpath(\"<nombre_carpeta>\").mkdir()\n",
    "```\n",
    "\n",
    "Para buscar la ruta de un archivo dentro del proyecto, usando `regex`:\n",
    "\n",
    "``` python\n",
    "list(DATA_DIR.glob(\"<nombre_archivo>\"))\n",
    "```"
   ]
  },
  {
   "cell_type": "markdown",
   "metadata": {},
   "source": [
    "### PyFilesystem2"
   ]
  },
  {
   "cell_type": "markdown",
   "metadata": {},
   "source": [
    "#### Objetivo\n",
    "Crear la ruta `./data/raw/` independiente del sistema operativo. Ahora usaremos PyFilesystem2.\n",
    "\n",
    "#### Implementación\n",
    "Dentro del notebook de jupyter:\n",
    "\n",
    "``` python\n",
    "import fs\n",
    "\n",
    "fs.open_fs(\".\")  # Abre una conexión con el path actual (OSFS)\n",
    "\n",
    "CURRENT_DIR = fs.open_fs(\".\")\n",
    "\n",
    "CURRENT_DIR.exists(\".\")  # Revisa si el directorio existe\n",
    "DATA_DIR.listdir(\".\")  # Muestra el contenido dentro de la ruta.\n",
    "```\n",
    "\n",
    "* PyFilesystem2 genera un objeto OSFS (Operating System Filesystem).\n",
    "* El inconveniente con este módulo es que el objeto OSFS solo detecta los objetos que existen en la ruta actual, por lo que si intentas acceder a un archivo ubicado en el directorio padre “…” te saltará un IndexError.\n",
    "* Si necesitas que el objeto OSFS también detecte el directorio padre, además de las carpetas “data” y “raw”, vuelve a generar el objeto de la siguiente forma:\n",
    "\n",
    "``` python\n",
    "fs.open_fs(\"../data/raw/\")  # Ruta objetivo\n",
    "```"
   ]
  },
  {
   "cell_type": "markdown",
   "metadata": {},
   "source": [
    "## Crear referencias relativas de archivos"
   ]
  },
  {
   "cell_type": "markdown",
   "metadata": {},
   "source": [
    "### Objetivo\n",
    "Necesitamos encontrar una forma de evitar que nuestro proyecto se rompa cuando movamos de lugar un archivo dentro del proyecto, para esto usaremos Referencias Relativas.\n",
    "\n",
    "### Implementación\n",
    "Usando PyProjRoot:\n",
    "\n",
    "```python\n",
    "import pyprojroot\n",
    "\n",
    "pyprojroot.here()  # Esto es un Posix Path (pathlib)\n",
    "pyprojroot.here().joinpath(\"data\", \"raw\") \n",
    "```\n",
    "\n",
    "* El path en pyprojroot se construye desde la raíz, no desde el path del archivo que lo ejecuta.\n",
    "* Puedes mover el archivo a cualquier parte de la carpeta del proyecto, pero los paths no se romperán.\n",
    "\n",
    "Usando PyHere:\n",
    "\n",
    "```python\n",
    "import pyhere\n",
    "\n",
    "pyhere.here()  # También regresa un Posix Path\n",
    "```\n",
    "\n",
    "* El directorio que regresa es el directorio padre del directorio actual.\n",
    "\n",
    "### Comparación\n",
    "Estas dos líneas de código regresan el mismo resultado:\n",
    "\n",
    "```python\n",
    "pyprojroot.here(\"data\").joinpath(\"raw\")\n",
    "pyhere.here().resolve() / \"data\" / \"raw\"\n",
    "```\n",
    "\n",
    "* Estas dos librerías sirven para crear shortcuts. Para esto, se puede usar la siguiente función:\n",
    "\n",
    "```python\n",
    "def make_dir_function(dir_name):\n",
    "    def dir_function(*args):\n",
    "        return pyprojroot.here()joinpath(dir_name, *args)\n",
    "    return dir_function\n",
    "\n",
    "data_dir = make_dir_function(\"data\")\n",
    "data_dir(\"raw\", \"pathlib\")  # Devuelve el path personalizado\n",
    "```\n",
    "\n",
    "* Puedes crear la cantidad de shortcuts que tu proyecto necesite."
   ]
  }
 ],
 "metadata": {
  "language_info": {
   "name": "python"
  },
  "orig_nbformat": 4
 },
 "nbformat": 4,
 "nbformat_minor": 2
}
