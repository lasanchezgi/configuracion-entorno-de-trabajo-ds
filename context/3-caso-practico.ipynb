{
 "cells": [
  {
   "cell_type": "markdown",
   "metadata": {},
   "source": [
    "# Caso práctico"
   ]
  },
  {
   "cell_type": "markdown",
   "metadata": {},
   "source": [
    "## Descarga de plantilla y configuración de ambiente virtual"
   ]
  },
  {
   "cell_type": "markdown",
   "metadata": {},
   "source": [
    "### Descarga e Instalación\n",
    "Para instalar y ejecutar la plantilla a usar, en el caso práctico, en una terminal escribir:\n",
    "\n",
    "```bash\n",
    "conda activate <nombre_entorno_cookiecutter>\n",
    "cookiecutter https://github.com/jvelezmagic/cookiecutter-conda-data-science\n",
    "```\n",
    "\n",
    "Durante la instalación de la plantilla y para que puedas reproducir el proyecto del profesor, elige las siguientes opciones:\n",
    "* Select project packages: Minimal\n",
    "* Python version: 3.9\n",
    "\n",
    "### Activación\n",
    "Para activar el proyecto, ejecutar lo siguiente en consola:\n",
    "\n",
    "```bash\n",
    "cd <nombre_carpeta_proyecto>\n",
    "conda env create --file environment.yml\n",
    "conda list python\n",
    "code .\n",
    "```"
   ]
  },
  {
   "cell_type": "markdown",
   "metadata": {},
   "source": [
    "## Utilizar proyect como un módulo de Python"
   ]
  },
  {
   "cell_type": "markdown",
   "metadata": {},
   "source": [
    "Una vez descargado, puedes instalar un proyecto como módulo de Python usando el siguiente comando en la terminal:\n",
    "\n",
    "``` bash\n",
    "pip install --editable .\n",
    "```\n",
    "\n",
    "Para que se reinicie el kernel, cada vez que reimportes los módulos después de hacer un cambio en estos, agrega esto en la primera celda:\n",
    "\n",
    "``` bash\n",
    "%load_ext autoreload\n",
    "%autoreload 2\n",
    "```\n",
    "\n",
    "* El hacer el autoreload te ayuda a externalizar trozos de código en archivos .py, como la creación de gráficos.\n",
    "* Los notebooks son buenos para hacer exploración, pero no para producción."
   ]
  },
  {
   "cell_type": "markdown",
   "metadata": {},
   "source": [
    "## Flujo de trabajo de los notebooks"
   ]
  },
  {
   "cell_type": "markdown",
   "metadata": {},
   "source": [
    "### Recomendaciones\n",
    "* Crear subcarpetas dentro de la carpeta de notebooks para mayor organización del código.\n",
    "* Se recomienda utilizar un sistema de nombrado de los notebooks, como el siguiente:\n",
    "\n",
    "```\n",
    "<número_notebook>-<nombre_programador>-<nombre_notebook>.ipynb\n",
    "```\n",
    "\n",
    "* También puedes exportar el notebook a texto plano (archivo .py)."
   ]
  },
  {
   "cell_type": "markdown",
   "metadata": {},
   "source": [
    "## Conlusiones"
   ]
  },
  {
   "cell_type": "markdown",
   "metadata": {},
   "source": [
    "### Aplica estas herramientas"
   ]
  },
  {
   "cell_type": "markdown",
   "metadata": {},
   "source": [
    "* Ahora que ya conoces todo lo que las plantillas de trabajo pueden darte, úsalas para agilizar tu productividad y enfocarte en lo que realmente importa, y para hacerle la vida más fácil a los que usen tus proyectos.\n",
    "* Recuerda utilizar los manejadores de rutas para enraizar tus proyectos y tener un entorno de archivos organizado e independiente del sistema de archivos y sistema operativo.\n",
    "* Emplea todos los conocimientos adquiridos en este curso en tus proyectos de Data Science, Machine Learning y Deep Learning."
   ]
  }
 ],
 "metadata": {
  "language_info": {
   "name": "python"
  },
  "orig_nbformat": 4
 },
 "nbformat": 4,
 "nbformat_minor": 2
}
