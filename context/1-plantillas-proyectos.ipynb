{
 "cells": [
  {
   "cell_type": "markdown",
   "metadata": {},
   "source": [
    "# Plantillas de proyectos para ciencia de datos"
   ]
  },
  {
   "cell_type": "markdown",
   "metadata": {},
   "source": [
    "## ¿Qué son y por qué utilizar plantillas de proyectos?"
   ]
  },
  {
   "cell_type": "markdown",
   "metadata": {},
   "source": [
    "### ¿Qué son las plantillas de proyectos?\n",
    "Las plantillas de proyectos son un medio que posibilita portar o construir un diseño predefinido. Estas te permiten definir carpetas, notebooks, scripts, archivos de configuración, etc.\n",
    "\n",
    "### ¿Por qué usar plantillas de proyectos?\n",
    "Algunas razones para usar plantillas en proyectos se debe a que:\n",
    "* Agiliza tu trabajo y reduce la fatiga por decisión.\n",
    "* Es más fácil de personalizar un proyecto hecho con plantillas que hecho desde cero.\n",
    "* La reproducibilidad de un proyecto es más viable.\n",
    "* Es más fácil encontrar algo entre los componentes del proyecto."
   ]
  },
  {
   "cell_type": "markdown",
   "metadata": {},
   "source": [
    "## Instalar Cookiecutter"
   ]
  },
  {
   "cell_type": "markdown",
   "metadata": {},
   "source": [
    "### ¿Qué es Cookiecutter?\n",
    "Es un manejador de plantillas multiplataforma (Windows, Mac OS, Linux) que te permite hacer plantillas en lenguaje de programación o formato de marcado. Puede ser usado como herramienta de línea de comandos o como librería de Python.\n",
    "\n",
    "Cookiecutter funciona con Jinja, un motor de plantillas extensible con el cual puedes crear plantillas como si estuvieras escribiendo código en Python.\n",
    "\n",
    "### ¿Cómo funciona?\n",
    "Hay 3 pasos para entender la manera en que funciona:\n",
    "* Detectará una sintaxis especial en los documentos y carpetas de tu proyecto.\n",
    "* Buscará variables y valores a reemplazar.\n",
    "* Finalmente, entregará un proyecto con la estructura definida en la plantilla.\n",
    "\n",
    "### Sintaxis de Jinja\n",
    "Existen 3 tipos diferentes de bloques:\n",
    "* Bloques de expresión: se usan para incluir variables en la plantilla:\n",
    "```\n",
    "{{ cookiecutter.saluda }}\n",
    "```\n",
    "* Bloques de declaración: se usan para el uso de condicionales, ciclos, etc.:\n",
    "```\n",
    "{% if coockiecutter.eres_asombroso %}\n",
    ". . .\n",
    "{% endif %}\n",
    "```\n",
    "* Bloques de comentario: se usan para dejar comentarios o recomendaciones a los propios desarrolladores:\n",
    "```\n",
    "{# Esto es un comentario #}\n",
    "```\n",
    "\n",
    "### Instalación de Cookiecutter\n",
    "Importante: Todos los pasos son vía consola y con Anaconda instalado.\n",
    "1. Crea una carpeta un entrar en ella:\n",
    "```\n",
    "mkdir <nombre_carpeta>\n",
    "cd <nombre_carpeta>\n",
    "```\n",
    "2. Agrega el canal Conda-Forge a tu configuración global:\n",
    "```\n",
    "conda config --add channels conda-forge\n",
    "```\n",
    "3. Crea un ambiente virtual que contenga a Coockiecutter:\n",
    "```\n",
    "conda create --name <nombre_ambiente> coockiecutter=1.7.3\n",
    "```\n",
    "4. Activa el ambiente virtual:\n",
    "```\n",
    "conda activate <nombre_ambiente>\n",
    "```\n",
    "5. Definir en dónde estará tu ambiente:\n",
    "```\n",
    "conda env export --from-history --file environment.yml\n",
    "```\n",
    "6. Para desactivar el ambiente virtual:\n",
    "```\n",
    "conda deactivate\n",
    "```"
   ]
  },
  {
   "cell_type": "markdown",
   "metadata": {},
   "source": [
    "## Crear plantillas de proyecto personalizadas"
   ]
  },
  {
   "cell_type": "markdown",
   "metadata": {},
   "source": [
    "### Estructura inicial de la plantilla\n",
    "Dentro de la carpeta principal crea la carpeta que contendrá todo lo que necesitarás en tu proyecto con el nombre:\n",
    "```\n",
    "{{ coockiecutter.project.slug }}\n",
    "```\n",
    "En la carpeta recién creada agrega los siguientes archivos:\n",
    "```\n",
    "README.md\n",
    "environment.yml\n",
    "coockiecutter.json\n",
    "```\n",
    "También crea las carpetas que necesitará tu proyecto:\n",
    "```\n",
    "/data\n",
    "/notebooks\n",
    "```\n",
    "Afuera de la carpeta, pero dentro de la carpeta principal, crea el siguiente archivo:\n",
    "```\n",
    "environment.yml\n",
    "```\n",
    "Hay dos archivos environment.yml, el de configuración de entorno (dentro de la carpeta que creaste) y el que configura las dependencias y paquetes (en la carpeta principal).\n",
    "\n",
    "### Información de README.md\n",
    "Adentro del archivo README.md agrega las siguientes líneas que lo harán un archivo dinámico:\n",
    "```\n",
    "# {{ coockiecutter.project_title }}\n",
    "By: {{ coockiecutter.project_author_name }}\n",
    "{{ coockiecutter.project_description }}\n",
    "```\n",
    "Estas líneas, hechas en Jinja, permitirán a tu archivo acceder a las variables que contienen la información del título, autor y descripción del proyecto.\n",
    "\n",
    "### Información de environment.yml (entorno)\n",
    "```\n",
    "# conda env create --file environment.yml\n",
    "name: cookiecutter-personal-platzi\n",
    "channels:\n",
    "  - anaconda\n",
    "  - conda-forge\n",
    "  - defaults\n",
    "dependencies:\n",
    "  - cookiecutter\n",
    "```\n",
    "\n",
    "### Información de environment.yml (configuración)\n",
    "```\n",
    "# conda env create --file environment.yml\n",
    "name: {{ cookiecutter.project_slug }}\n",
    "channels:\n",
    "  - anaconda\n",
    "  - conda-forge\n",
    "  - defaults\n",
    "dependencies:\n",
    "  {% if cookiecutter.project_packages == \"All\" -%}\n",
    "  - fs\n",
    "  - jupyter\n",
    "  - jupyterlab\n",
    "  - pathlib\n",
    "  {% endif -%}\n",
    "  - pip\n",
    "  {% if cookiecutter.project_packages == \"All\" -%}\n",
    "  - pyprojroot\n",
    "  {% endif -%}\n",
    "  - python={{ cookiecutter.python_version }}\n",
    "  - pip:\n",
    "    {% if cookiecutter.project_packages == \"All\" -%}\n",
    "    - pyhere\n",
    "    {% endif -%}\n",
    "```\n",
    "\n",
    "### Agregando información a coockiecutter.json\n",
    "Dentro de este archivo configurarás todos los valores de las variables que utilizas en los demás archivos:\n",
    "```json\n",
    "{\n",
    "    \"project_title\": \"Cookiecutter Personal\",\n",
    "    \"project_slug\": \"{{ coockiecutter.project_title.lower().replace(\" \", \"_\").replace(\"-\", \"_\") }}\",\n",
    "    \"project_description\": \"Tu primer proyecto con Cookiecutter.\",\n",
    "    \"project_author_name\": \"Tu nombre\",\n",
    "    \"project_packages\": [\"All, Minimal\"],\n",
    "    \"python_version\": \"3.7\"\n",
    "}\n",
    "```\n",
    "\n",
    "### Ejecuta el proyecto\n",
    "* Inicializas el Coockiecutter con conda.\n",
    "* Configuras la instalación, como en la clase anterior."
   ]
  },
  {
   "cell_type": "markdown",
   "metadata": {},
   "source": [
    "## Implementar hooks"
   ]
  },
  {
   "cell_type": "markdown",
   "metadata": {},
   "source": [
    "### Introducción a Hooks\n",
    "Los Hooks son sentencias que se van a ejecutar antes o después de generar la plantilla de datos. Por ejemplo, puedes usarlos para verificar el nombre de una carpeta, actualizar git, etc.\n",
    "\n",
    "### Implementación de Hooks\n",
    "* Se crea la carpeta `hooks`, adentro de la carpeta principal de tu proyecto.\n",
    "* Dentro de la carpeta se agregan los archivos `pre_gen_project.py` (lo que se ejecuta antes de generar la plantilla) y `pos_gen_project.py` (lo que se ejecuta después de generar la plantilla).\n",
    "\n",
    "Por ejemplo, en `pre_gen_project.py` se puede inicializar git o validar nombres y archivos para evitar errores.\n",
    "\n",
    "En el archivo `pos_gen_project.py` se puede hacer el primer commit en git o mostrar la finalización de la instalación de dependencias."
   ]
  },
  {
   "cell_type": "markdown",
   "metadata": {},
   "source": [
    "## Distribuir plantilla de proyecto"
   ]
  },
  {
   "cell_type": "markdown",
   "metadata": {},
   "source": [
    "Almacenar tu plantilla te permite poder compartirla con los demás y poder acceder a ella cuando necesites crear un nuevo proyecto.\n",
    "\n",
    "### Distribución de tu plantilla (GitHub)\n",
    "* Crea un nuevo repositorio vacío en GitHub. Puedes no agregar ninguna información sobre tu repositorio por el momento.\n",
    "* Dentro de la carpeta que contiene tu proyecto inicializa git y haz tu primer commit:\n",
    "``` bash\n",
    "git init .\n",
    "git add .\n",
    "git commit -m \"Initial commit\"\n",
    "```\n",
    "* Ahora, para subir a GitHub tu proyecto, ejecuta lo siguiente:\n",
    "``` bash\n",
    "git remote add origin https://github.com/<usuario>/<repositorio>.git\n",
    "git branch -M main\n",
    "git push -u origin main\n",
    "```\n",
    "* No olvides eliminar cualquier carpeta innecesaria (por ejemplo, la carpeta que se genera cuando ejecutas Coockiecutter).\n",
    "* Para evitar que git ignore las carpetas vacías, agrega un archivo “.gitkeep” dentro de cada carpeta vacía.\n",
    "\n",
    "Cuando usas “cookiecutter” como parte del nombre de tu proyecto, este puede ser encontrado por otras personas en GitHub. De esta forma podrás ayudar a otros científicos de datos, facilitándoles el trabajo."
   ]
  }
 ],
 "metadata": {
  "language_info": {
   "name": "python"
  },
  "orig_nbformat": 4
 },
 "nbformat": 4,
 "nbformat_minor": 2
}
